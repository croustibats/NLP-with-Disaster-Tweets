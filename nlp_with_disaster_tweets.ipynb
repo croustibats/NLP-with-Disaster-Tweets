{
 "cells": [
  {
   "cell_type": "code",
   "execution_count": 1,
   "metadata": {},
   "outputs": [],
   "source": [
    "import numpy as np\n",
    "import pandas as pd\n",
    "import matplotlib.pyplot as plt\n",
    "import seaborn as sns\n",
    "import os\n",
    "import io\n",
    "import re\n",
    "import json\n",
    "import string\n",
    "from spellchecker import SpellChecker\n",
    "import tensorflow as tf\n",
    "from tensorflow.keras.layers import Embedding, SimpleRNN, Dense, GRU, LSTM\n",
    "from sklearn.model_selection import train_test_split\n",
    "from sklearn import metrics\n",
    "import pathlib\n",
    "import warnings\n",
    "warnings.filterwarnings('ignore')"
   ]
  },
  {
   "cell_type": "code",
   "execution_count": 2,
   "metadata": {},
   "outputs": [
    {
     "name": "stdout",
     "output_type": "stream",
     "text": [
      "train dataset :  (7613, 5)\n",
      "test dataset :  (3263, 4)\n"
     ]
    }
   ],
   "source": [
    "### get data ###\n",
    "\n",
    "train_df = pd.read_csv('train.csv')\n",
    "test_df = pd.read_csv('test.csv')\n",
    "\n",
    "print('train dataset : ', train_df.shape)\n",
    "print('test dataset : ', test_df.shape)"
   ]
  },
  {
   "cell_type": "code",
   "execution_count": 3,
   "metadata": {},
   "outputs": [
    {
     "data": {
      "text/html": [
       "<div>\n",
       "<style scoped>\n",
       "    .dataframe tbody tr th:only-of-type {\n",
       "        vertical-align: middle;\n",
       "    }\n",
       "\n",
       "    .dataframe tbody tr th {\n",
       "        vertical-align: top;\n",
       "    }\n",
       "\n",
       "    .dataframe thead th {\n",
       "        text-align: right;\n",
       "    }\n",
       "</style>\n",
       "<table border=\"1\" class=\"dataframe\">\n",
       "  <thead>\n",
       "    <tr style=\"text-align: right;\">\n",
       "      <th></th>\n",
       "      <th>id</th>\n",
       "      <th>keyword</th>\n",
       "      <th>location</th>\n",
       "      <th>text</th>\n",
       "      <th>target</th>\n",
       "    </tr>\n",
       "  </thead>\n",
       "  <tbody>\n",
       "    <tr>\n",
       "      <th>0</th>\n",
       "      <td>1</td>\n",
       "      <td>NaN</td>\n",
       "      <td>NaN</td>\n",
       "      <td>Our Deeds are the Reason of this #earthquake M...</td>\n",
       "      <td>1</td>\n",
       "    </tr>\n",
       "    <tr>\n",
       "      <th>1</th>\n",
       "      <td>4</td>\n",
       "      <td>NaN</td>\n",
       "      <td>NaN</td>\n",
       "      <td>Forest fire near La Ronge Sask. Canada</td>\n",
       "      <td>1</td>\n",
       "    </tr>\n",
       "    <tr>\n",
       "      <th>2</th>\n",
       "      <td>5</td>\n",
       "      <td>NaN</td>\n",
       "      <td>NaN</td>\n",
       "      <td>All residents asked to 'shelter in place' are ...</td>\n",
       "      <td>1</td>\n",
       "    </tr>\n",
       "    <tr>\n",
       "      <th>3</th>\n",
       "      <td>6</td>\n",
       "      <td>NaN</td>\n",
       "      <td>NaN</td>\n",
       "      <td>13,000 people receive #wildfires evacuation or...</td>\n",
       "      <td>1</td>\n",
       "    </tr>\n",
       "    <tr>\n",
       "      <th>4</th>\n",
       "      <td>7</td>\n",
       "      <td>NaN</td>\n",
       "      <td>NaN</td>\n",
       "      <td>Just got sent this photo from Ruby #Alaska as ...</td>\n",
       "      <td>1</td>\n",
       "    </tr>\n",
       "  </tbody>\n",
       "</table>\n",
       "</div>"
      ],
      "text/plain": [
       "   id keyword location                                               text  \\\n",
       "0   1     NaN      NaN  Our Deeds are the Reason of this #earthquake M...   \n",
       "1   4     NaN      NaN             Forest fire near La Ronge Sask. Canada   \n",
       "2   5     NaN      NaN  All residents asked to 'shelter in place' are ...   \n",
       "3   6     NaN      NaN  13,000 people receive #wildfires evacuation or...   \n",
       "4   7     NaN      NaN  Just got sent this photo from Ruby #Alaska as ...   \n",
       "\n",
       "   target  \n",
       "0       1  \n",
       "1       1  \n",
       "2       1  \n",
       "3       1  \n",
       "4       1  "
      ]
     },
     "execution_count": 3,
     "metadata": {},
     "output_type": "execute_result"
    }
   ],
   "source": [
    "train_df.head()"
   ]
  },
  {
   "cell_type": "code",
   "execution_count": 4,
   "metadata": {},
   "outputs": [
    {
     "data": {
      "text/html": [
       "<div>\n",
       "<style scoped>\n",
       "    .dataframe tbody tr th:only-of-type {\n",
       "        vertical-align: middle;\n",
       "    }\n",
       "\n",
       "    .dataframe tbody tr th {\n",
       "        vertical-align: top;\n",
       "    }\n",
       "\n",
       "    .dataframe thead th {\n",
       "        text-align: right;\n",
       "    }\n",
       "</style>\n",
       "<table border=\"1\" class=\"dataframe\">\n",
       "  <thead>\n",
       "    <tr style=\"text-align: right;\">\n",
       "      <th></th>\n",
       "      <th>id</th>\n",
       "      <th>keyword</th>\n",
       "      <th>location</th>\n",
       "      <th>text</th>\n",
       "    </tr>\n",
       "  </thead>\n",
       "  <tbody>\n",
       "    <tr>\n",
       "      <th>0</th>\n",
       "      <td>0</td>\n",
       "      <td>NaN</td>\n",
       "      <td>NaN</td>\n",
       "      <td>Just happened a terrible car crash</td>\n",
       "    </tr>\n",
       "    <tr>\n",
       "      <th>1</th>\n",
       "      <td>2</td>\n",
       "      <td>NaN</td>\n",
       "      <td>NaN</td>\n",
       "      <td>Heard about #earthquake is different cities, s...</td>\n",
       "    </tr>\n",
       "    <tr>\n",
       "      <th>2</th>\n",
       "      <td>3</td>\n",
       "      <td>NaN</td>\n",
       "      <td>NaN</td>\n",
       "      <td>there is a forest fire at spot pond, geese are...</td>\n",
       "    </tr>\n",
       "    <tr>\n",
       "      <th>3</th>\n",
       "      <td>9</td>\n",
       "      <td>NaN</td>\n",
       "      <td>NaN</td>\n",
       "      <td>Apocalypse lighting. #Spokane #wildfires</td>\n",
       "    </tr>\n",
       "    <tr>\n",
       "      <th>4</th>\n",
       "      <td>11</td>\n",
       "      <td>NaN</td>\n",
       "      <td>NaN</td>\n",
       "      <td>Typhoon Soudelor kills 28 in China and Taiwan</td>\n",
       "    </tr>\n",
       "  </tbody>\n",
       "</table>\n",
       "</div>"
      ],
      "text/plain": [
       "   id keyword location                                               text\n",
       "0   0     NaN      NaN                 Just happened a terrible car crash\n",
       "1   2     NaN      NaN  Heard about #earthquake is different cities, s...\n",
       "2   3     NaN      NaN  there is a forest fire at spot pond, geese are...\n",
       "3   9     NaN      NaN           Apocalypse lighting. #Spokane #wildfires\n",
       "4  11     NaN      NaN      Typhoon Soudelor kills 28 in China and Taiwan"
      ]
     },
     "execution_count": 4,
     "metadata": {},
     "output_type": "execute_result"
    }
   ],
   "source": [
    "test_df.head()"
   ]
  },
  {
   "cell_type": "code",
   "execution_count": 5,
   "metadata": {},
   "outputs": [
    {
     "data": {
      "text/plain": [
       "<AxesSubplot:xlabel='target', ylabel='count'>"
      ]
     },
     "execution_count": 5,
     "metadata": {},
     "output_type": "execute_result"
    },
    {
     "data": {
      "image/png": "[encoded data removed]",
      "text/plain": [
       "<Figure size 432x288 with 1 Axes>"
      ]
     },
     "metadata": {
      "needs_background": "light"
     },
     "output_type": "display_data"
    }
   ],
   "source": [
    "# class distribution\n",
    "sns.countplot(data=train_df, x='target')"
   ]
  },
  {
   "cell_type": "code",
   "execution_count": 6,
   "metadata": {},
   "outputs": [
    {
     "data": {
      "text/plain": [
       "id             0\n",
       "keyword       61\n",
       "location    2533\n",
       "text           0\n",
       "target         0\n",
       "dtype: int64"
      ]
     },
     "execution_count": 6,
     "metadata": {},
     "output_type": "execute_result"
    }
   ],
   "source": [
    "train_df.isna().sum()"
   ]
  },
  {
   "cell_type": "code",
   "execution_count": 7,
   "metadata": {},
   "outputs": [
    {
     "name": "stdout",
     "output_type": "stream",
     "text": [
      "negative example :  I love fruits\n",
      "positive example :  Forest fire near La Ronge Sask. Canada\n"
     ]
    }
   ],
   "source": [
    "# explicit example\n",
    "\n",
    "print('negative example : ', train_df[train_df[\"target\"] == 0][\"text\"].values[1])\n",
    "print('positive example : ', train_df[train_df[\"target\"] == 1][\"text\"].values[1])"
   ]
  },
  {
   "cell_type": "code",
   "execution_count": 8,
   "metadata": {},
   "outputs": [
    {
     "name": "stdout",
     "output_type": "stream",
     "text": [
      "negative example :  Leading emergency services boss welcomes new ambulance charity http://t.co/Mj2jQ2pSv6\n",
      "positive example :  Three people died from the heat wave so far\n"
     ]
    }
   ],
   "source": [
    "# difficult example\n",
    "\n",
    "print('negative example : ', train_df[train_df[\"target\"] == 0][\"text\"].values[89])\n",
    "print('positive example : ', train_df[train_df[\"target\"] == 1][\"text\"].values[10])"
   ]
  },
  {
   "cell_type": "markdown",
   "metadata": {},
   "source": [
    "### 1. Text cleaning"
   ]
  },
  {
   "cell_type": "code",
   "execution_count": 9,
   "metadata": {},
   "outputs": [
    {
     "data": {
      "text/html": [
       "<div>\n",
       "<style scoped>\n",
       "    .dataframe tbody tr th:only-of-type {\n",
       "        vertical-align: middle;\n",
       "    }\n",
       "\n",
       "    .dataframe tbody tr th {\n",
       "        vertical-align: top;\n",
       "    }\n",
       "\n",
       "    .dataframe thead th {\n",
       "        text-align: right;\n",
       "    }\n",
       "</style>\n",
       "<table border=\"1\" class=\"dataframe\">\n",
       "  <thead>\n",
       "    <tr style=\"text-align: right;\">\n",
       "      <th></th>\n",
       "      <th>text</th>\n",
       "      <th>target</th>\n",
       "    </tr>\n",
       "  </thead>\n",
       "  <tbody>\n",
       "    <tr>\n",
       "      <th>0</th>\n",
       "      <td>Our Deeds are the Reason of this #earthquake M...</td>\n",
       "      <td>1</td>\n",
       "    </tr>\n",
       "    <tr>\n",
       "      <th>1</th>\n",
       "      <td>Forest fire near La Ronge Sask. Canada</td>\n",
       "      <td>1</td>\n",
       "    </tr>\n",
       "    <tr>\n",
       "      <th>2</th>\n",
       "      <td>All residents asked to 'shelter in place' are ...</td>\n",
       "      <td>1</td>\n",
       "    </tr>\n",
       "    <tr>\n",
       "      <th>3</th>\n",
       "      <td>13,000 people receive #wildfires evacuation or...</td>\n",
       "      <td>1</td>\n",
       "    </tr>\n",
       "    <tr>\n",
       "      <th>4</th>\n",
       "      <td>Just got sent this photo from Ruby #Alaska as ...</td>\n",
       "      <td>1</td>\n",
       "    </tr>\n",
       "  </tbody>\n",
       "</table>\n",
       "</div>"
      ],
      "text/plain": [
       "                                                text  target\n",
       "0  Our Deeds are the Reason of this #earthquake M...       1\n",
       "1             Forest fire near La Ronge Sask. Canada       1\n",
       "2  All residents asked to 'shelter in place' are ...       1\n",
       "3  13,000 people receive #wildfires evacuation or...       1\n",
       "4  Just got sent this photo from Ruby #Alaska as ...       1"
      ]
     },
     "execution_count": 9,
     "metadata": {},
     "output_type": "execute_result"
    }
   ],
   "source": [
    "# keep only text tweet and target columns\n",
    "train_df = train_df[['text', 'target']]\n",
    "train_df.head()"
   ]
  },
  {
   "cell_type": "code",
   "execution_count": 10,
   "metadata": {},
   "outputs": [],
   "source": [
    "# we use spacy for text processing \n",
    "\n",
    "import spacy\n",
    "from spacy.lang.en.stop_words import STOP_WORDS\n",
    "nlp = spacy.load('en_core_web_sm')"
   ]
  },
  {
   "cell_type": "code",
   "execution_count": 11,
   "metadata": {},
   "outputs": [
    {
     "name": "stdout",
     "output_type": "stream",
     "text": [
      "Our Deeds are the Reason of this #earthquake May ALLAH Forgive us all\n"
     ]
    },
    {
     "data": {
      "text/plain": [
       "['our',\n",
       " 'deed',\n",
       " 'be',\n",
       " 'the',\n",
       " 'reason',\n",
       " 'of',\n",
       " 'this',\n",
       " '#',\n",
       " 'earthquake',\n",
       " 'may',\n",
       " 'ALLAH',\n",
       " 'forgive',\n",
       " 'we',\n",
       " 'all']"
      ]
     },
     "execution_count": 11,
     "metadata": {},
     "output_type": "execute_result"
    }
   ],
   "source": [
    "# example nlp + lemmatization\n",
    "\n",
    "a = nlp(train_df['text'].loc[0])\n",
    "print(a)\n",
    "[element.lemma_ for element in a]"
   ]
  },
  {
   "cell_type": "code",
   "execution_count": 12,
   "metadata": {},
   "outputs": [
    {
     "data": {
      "text/plain": [
       "'#NowPlaying: Rene Ablaze &amp; Ian Buff - Magnitude http://t.co/Av2JSjfFtc  #EDM'"
      ]
     },
     "execution_count": 12,
     "metadata": {},
     "output_type": "execute_result"
    }
   ],
   "source": [
    "# example link in tweet \n",
    "\n",
    "train_df.loc[train_df['text'].str.contains('http')].iloc[22, 0]"
   ]
  },
  {
   "cell_type": "code",
   "execution_count": 13,
   "metadata": {},
   "outputs": [
    {
     "data": {
      "text/plain": [
       "1    2172\n",
       "0    1799\n",
       "Name: target, dtype: int64"
      ]
     },
     "execution_count": 13,
     "metadata": {},
     "output_type": "execute_result"
    }
   ],
   "source": [
    "#How many http words has this text?\n",
    "train_df.loc[train_df['text'].str.contains('http')].target.value_counts()"
   ]
  },
  {
   "cell_type": "code",
   "execution_count": 14,
   "metadata": {},
   "outputs": [],
   "source": [
    "spell = SpellChecker()\n",
    "\n",
    "# this function takes too much time to compute : we are not using it\n",
    "def correct_spellings(x, spell=spell):\n",
    "    ### correct the misspelled words of a given tweet ###\n",
    "    x = x.split()\n",
    "    misspelled = spell.unknown(x)\n",
    "    result = map(lambda word : spell.correction(word) if word in misspelled and spell.correction(word) is not None else word, x)\n",
    "    return \" \".join(result)\n",
    "\n",
    "def tweets_cleaning(x, correct_spelling=False, remove_emojis=True, remove_stop_words_lemmatization=True):\n",
    "    ### Apply function to a clean a tweet ###\n",
    "\n",
    "    # remove multiple spaces and lower characters\n",
    "    x = x.replace(\" +\",\" \").lower().strip()\n",
    "    # remove urls\n",
    "    url = re.compile(r'https?://\\S+|www\\.\\S+')\n",
    "    x = url.sub(r'',x)\n",
    "    # remove html tags\n",
    "    html = re.compile('http[s]?://(?:[a-zA-Z]|[0-9]|[$-_@.&+]|[!*\\(\\),]|(?:%[0-9a-fA-F][0-9a-fA-F]))+')\n",
    "    x = html.sub('',x)\n",
    "    # remove non alpha-numeric characters\n",
    "    x = ''.join([ch for ch in x if ch.isalnum() or ch==\" \"])\n",
    "\n",
    "    if remove_emojis:\n",
    "        x = x.encode('ascii', 'ignore').decode('utf8').strip()\n",
    "    if correct_spelling:\n",
    "        x = correct_spellings(x)\n",
    "    if remove_stop_words_lemmatization:\n",
    "        x = \" \".join([token.lemma_ for token in nlp(x) if (token.lemma_ not in STOP_WORDS) and (token.text not in STOP_WORDS)])\n",
    "    return x\n",
    "\n",
    "## apply the cleaning function to the text column for train and test\n",
    "train_df['cleaned_text'] = train_df['text'].apply(tweets_cleaning)\n",
    "test_df['cleaned_text'] = test_df['text'].apply(tweets_cleaning)"
   ]
  },
  {
   "cell_type": "code",
   "execution_count": 15,
   "metadata": {},
   "outputs": [
    {
     "data": {
      "text/plain": [
       "0                    deed reason earthquake allah forgive\n",
       "1                   forest fire near la ronge sask canada\n",
       "2       resident ask shelter place notify officer evac...\n",
       "3       13000 people receive wildfire evacuation order...\n",
       "4       got send photo ruby alaska smoke wildfire pour...\n",
       "                              ...                        \n",
       "7608         giant crane hold bridge collapse nearby home\n",
       "7609    ariaahrary thetawniest control wild fire calif...\n",
       "7610                   m194 0104 utc5 km s volcano hawaii\n",
       "7611    police investigate ebike collide car little po...\n",
       "7612    late home raze northern california wildfire   ...\n",
       "Name: cleaned_text, Length: 7613, dtype: object"
      ]
     },
     "execution_count": 15,
     "metadata": {},
     "output_type": "execute_result"
    }
   ],
   "source": [
    "train_df['cleaned_text']"
   ]
  },
  {
   "cell_type": "code",
   "execution_count": 16,
   "metadata": {},
   "outputs": [
    {
     "data": {
      "text/plain": [
       "(7613, 3)"
      ]
     },
     "execution_count": 16,
     "metadata": {},
     "output_type": "execute_result"
    }
   ],
   "source": [
    "train_df.shape"
   ]
  },
  {
   "cell_type": "code",
   "execution_count": null,
   "metadata": {},
   "outputs": [],
   "source": [
    "# How many unique words have this text\n",
    "def counter_word(text):\n",
    "    count = dict()\n",
    "    for row in text.values:\n",
    "        for word in row.split():\n",
    "            try:\n",
    "                count[word] += 1\n",
    "            except KeyError:\n",
    "                count[word] = 1\n",
    "    return count\n",
    "\n",
    "counter = counter_word(train_df['cleaned_text'])\n",
    "\n",
    "#for key, value in sorted(counter.items(), key=lambda item: item[1], reverse=True):\n",
    "#    print(key, value)"
   ]
  },
  {
   "cell_type": "code",
   "execution_count": 18,
   "metadata": {},
   "outputs": [
    {
     "data": {
      "text/plain": [
       "15459"
      ]
     },
     "execution_count": 18,
     "metadata": {},
     "output_type": "execute_result"
    }
   ],
   "source": [
    "len(counter)"
   ]
  },
  {
   "cell_type": "markdown",
   "metadata": {},
   "source": [
    "### 2. Tokenization"
   ]
  },
  {
   "cell_type": "code",
   "execution_count": 19,
   "metadata": {},
   "outputs": [],
   "source": [
    "tokenizer = tf.keras.preprocessing.text.Tokenizer(num_words=2000, oov_token=\"out_of_vocab\") # instanciate the tokenizer\n",
    "tokenizer.fit_on_texts(train_df[\"cleaned_text\"])\n",
    "train_df[\"text_encoded\"] = tokenizer.texts_to_sequences(train_df[\"cleaned_text\"])\n",
    "test_df[\"text_encoded\"] = tokenizer.texts_to_sequences(test_df[\"cleaned_text\"])"
   ]
  },
  {
   "cell_type": "code",
   "execution_count": 20,
   "metadata": {},
   "outputs": [
    {
     "data": {
      "text/html": [
       "<div>\n",
       "<style scoped>\n",
       "    .dataframe tbody tr th:only-of-type {\n",
       "        vertical-align: middle;\n",
       "    }\n",
       "\n",
       "    .dataframe tbody tr th {\n",
       "        vertical-align: top;\n",
       "    }\n",
       "\n",
       "    .dataframe thead th {\n",
       "        text-align: right;\n",
       "    }\n",
       "</style>\n",
       "<table border=\"1\" class=\"dataframe\">\n",
       "  <thead>\n",
       "    <tr style=\"text-align: right;\">\n",
       "      <th></th>\n",
       "      <th>text</th>\n",
       "      <th>target</th>\n",
       "      <th>cleaned_text</th>\n",
       "      <th>text_encoded</th>\n",
       "    </tr>\n",
       "  </thead>\n",
       "  <tbody>\n",
       "    <tr>\n",
       "      <th>0</th>\n",
       "      <td>Our Deeds are the Reason of this #earthquake M...</td>\n",
       "      <td>1</td>\n",
       "      <td>deed reason earthquake allah forgive</td>\n",
       "      <td>[1, 411, 174, 1381, 1936]</td>\n",
       "    </tr>\n",
       "    <tr>\n",
       "      <th>1</th>\n",
       "      <td>Forest fire near La Ronge Sask. Canada</td>\n",
       "      <td>1</td>\n",
       "      <td>forest fire near la ronge sask canada</td>\n",
       "      <td>[122, 3, 162, 491, 1, 1, 1019]</td>\n",
       "    </tr>\n",
       "    <tr>\n",
       "      <th>2</th>\n",
       "      <td>All residents asked to 'shelter in place' are ...</td>\n",
       "      <td>1</td>\n",
       "      <td>resident ask shelter place notify officer evac...</td>\n",
       "      <td>[1382, 442, 1708, 326, 1, 291, 189, 1708, 326,...</td>\n",
       "    </tr>\n",
       "    <tr>\n",
       "      <th>3</th>\n",
       "      <td>13,000 people receive #wildfires evacuation or...</td>\n",
       "      <td>1</td>\n",
       "      <td>13000 people receive wildfire evacuation order...</td>\n",
       "      <td>[1, 8, 1, 70, 189, 279, 36]</td>\n",
       "    </tr>\n",
       "    <tr>\n",
       "      <th>4</th>\n",
       "      <td>Just got sent this photo from Ruby #Alaska as ...</td>\n",
       "      <td>1</td>\n",
       "      <td>got send photo ruby alaska smoke wildfire pour...</td>\n",
       "      <td>[267, 182, 126, 1, 1523, 175, 70, 1, 114]</td>\n",
       "    </tr>\n",
       "  </tbody>\n",
       "</table>\n",
       "</div>"
      ],
      "text/plain": [
       "                                                text  target  \\\n",
       "0  Our Deeds are the Reason of this #earthquake M...       1   \n",
       "1             Forest fire near La Ronge Sask. Canada       1   \n",
       "2  All residents asked to 'shelter in place' are ...       1   \n",
       "3  13,000 people receive #wildfires evacuation or...       1   \n",
       "4  Just got sent this photo from Ruby #Alaska as ...       1   \n",
       "\n",
       "                                        cleaned_text  \\\n",
       "0               deed reason earthquake allah forgive   \n",
       "1              forest fire near la ronge sask canada   \n",
       "2  resident ask shelter place notify officer evac...   \n",
       "3  13000 people receive wildfire evacuation order...   \n",
       "4  got send photo ruby alaska smoke wildfire pour...   \n",
       "\n",
       "                                        text_encoded  \n",
       "0                          [1, 411, 174, 1381, 1936]  \n",
       "1                     [122, 3, 162, 491, 1, 1, 1019]  \n",
       "2  [1382, 442, 1708, 326, 1, 291, 189, 1708, 326,...  \n",
       "3                        [1, 8, 1, 70, 189, 279, 36]  \n",
       "4          [267, 182, 126, 1, 1523, 175, 70, 1, 114]  "
      ]
     },
     "execution_count": 20,
     "metadata": {},
     "output_type": "execute_result"
    }
   ],
   "source": [
    "train_df.head()"
   ]
  },
  {
   "cell_type": "code",
   "execution_count": 21,
   "metadata": {},
   "outputs": [
    {
     "data": {
      "text/html": [
       "<div>\n",
       "<style scoped>\n",
       "    .dataframe tbody tr th:only-of-type {\n",
       "        vertical-align: middle;\n",
       "    }\n",
       "\n",
       "    .dataframe tbody tr th {\n",
       "        vertical-align: top;\n",
       "    }\n",
       "\n",
       "    .dataframe thead th {\n",
       "        text-align: right;\n",
       "    }\n",
       "</style>\n",
       "<table border=\"1\" class=\"dataframe\">\n",
       "  <thead>\n",
       "    <tr style=\"text-align: right;\">\n",
       "      <th></th>\n",
       "      <th>id</th>\n",
       "      <th>keyword</th>\n",
       "      <th>location</th>\n",
       "      <th>text</th>\n",
       "      <th>cleaned_text</th>\n",
       "      <th>text_encoded</th>\n",
       "    </tr>\n",
       "  </thead>\n",
       "  <tbody>\n",
       "    <tr>\n",
       "      <th>0</th>\n",
       "      <td>0</td>\n",
       "      <td>NaN</td>\n",
       "      <td>NaN</td>\n",
       "      <td>Just happened a terrible car crash</td>\n",
       "      <td>happen terrible car crash</td>\n",
       "      <td>[170, 1544, 46, 14]</td>\n",
       "    </tr>\n",
       "    <tr>\n",
       "      <th>1</th>\n",
       "      <td>2</td>\n",
       "      <td>NaN</td>\n",
       "      <td>NaN</td>\n",
       "      <td>Heard about #earthquake is different cities, s...</td>\n",
       "      <td>hear earthquake different city stay safe</td>\n",
       "      <td>[130, 174, 940, 119, 369, 1053]</td>\n",
       "    </tr>\n",
       "    <tr>\n",
       "      <th>2</th>\n",
       "      <td>3</td>\n",
       "      <td>NaN</td>\n",
       "      <td>NaN</td>\n",
       "      <td>there is a forest fire at spot pond, geese are...</td>\n",
       "      <td>forest fire spot pond geese flee street save</td>\n",
       "      <td>[122, 3, 523, 1, 1, 1, 383, 99]</td>\n",
       "    </tr>\n",
       "    <tr>\n",
       "      <th>3</th>\n",
       "      <td>9</td>\n",
       "      <td>NaN</td>\n",
       "      <td>NaN</td>\n",
       "      <td>Apocalypse lighting. #Spokane #wildfires</td>\n",
       "      <td>apocalypse lighting spokane wildfire</td>\n",
       "      <td>[389, 1, 1, 70]</td>\n",
       "    </tr>\n",
       "    <tr>\n",
       "      <th>4</th>\n",
       "      <td>11</td>\n",
       "      <td>NaN</td>\n",
       "      <td>NaN</td>\n",
       "      <td>Typhoon Soudelor kills 28 in China and Taiwan</td>\n",
       "      <td>typhoon soudelor kill 28 china taiwan</td>\n",
       "      <td>[378, 525, 12, 1, 247, 944]</td>\n",
       "    </tr>\n",
       "  </tbody>\n",
       "</table>\n",
       "</div>"
      ],
      "text/plain": [
       "   id keyword location                                               text  \\\n",
       "0   0     NaN      NaN                 Just happened a terrible car crash   \n",
       "1   2     NaN      NaN  Heard about #earthquake is different cities, s...   \n",
       "2   3     NaN      NaN  there is a forest fire at spot pond, geese are...   \n",
       "3   9     NaN      NaN           Apocalypse lighting. #Spokane #wildfires   \n",
       "4  11     NaN      NaN      Typhoon Soudelor kills 28 in China and Taiwan   \n",
       "\n",
       "                                   cleaned_text  \\\n",
       "0                     happen terrible car crash   \n",
       "1      hear earthquake different city stay safe   \n",
       "2  forest fire spot pond geese flee street save   \n",
       "3          apocalypse lighting spokane wildfire   \n",
       "4         typhoon soudelor kill 28 china taiwan   \n",
       "\n",
       "                      text_encoded  \n",
       "0              [170, 1544, 46, 14]  \n",
       "1  [130, 174, 940, 119, 369, 1053]  \n",
       "2  [122, 3, 523, 1, 1, 1, 383, 99]  \n",
       "3                  [389, 1, 1, 70]  \n",
       "4      [378, 525, 12, 1, 247, 944]  "
      ]
     },
     "execution_count": 21,
     "metadata": {},
     "output_type": "execute_result"
    }
   ],
   "source": [
    "test_df.head()"
   ]
  },
  {
   "cell_type": "code",
   "execution_count": 22,
   "metadata": {},
   "outputs": [],
   "source": [
    "text_train_pad = tf.keras.preprocessing.sequence.pad_sequences(train_df.text_encoded, padding=\"post\")\n",
    "text_test_pad = tf.keras.preprocessing.sequence.pad_sequences(test_df.text_encoded, padding=\"post\", maxlen = 25)"
   ]
  },
  {
   "cell_type": "code",
   "execution_count": 23,
   "metadata": {},
   "outputs": [
    {
     "data": {
      "text/plain": [
       "array([   1,  411,  174, 1381, 1936,    0,    0,    0,    0,    0,    0,\n",
       "          0,    0,    0,    0,    0,    0,    0,    0,    0,    0,    0,\n",
       "          0,    0,    0])"
      ]
     },
     "execution_count": 23,
     "metadata": {},
     "output_type": "execute_result"
    }
   ],
   "source": [
    "text_train_pad[0]"
   ]
  },
  {
   "cell_type": "code",
   "execution_count": 24,
   "metadata": {},
   "outputs": [
    {
     "data": {
      "text/plain": [
       "array([ 170, 1544,   46,   14,    0,    0,    0,    0,    0,    0,    0,\n",
       "          0,    0,    0,    0,    0,    0,    0,    0,    0,    0,    0,\n",
       "          0,    0,    0])"
      ]
     },
     "execution_count": 24,
     "metadata": {},
     "output_type": "execute_result"
    }
   ],
   "source": [
    "text_test_pad[0]"
   ]
  },
  {
   "cell_type": "code",
   "execution_count": 25,
   "metadata": {},
   "outputs": [
    {
     "data": {
      "text/plain": [
       "(7613, 25)"
      ]
     },
     "execution_count": 25,
     "metadata": {},
     "output_type": "execute_result"
    }
   ],
   "source": [
    "text_train_pad.shape"
   ]
  },
  {
   "cell_type": "code",
   "execution_count": 26,
   "metadata": {},
   "outputs": [
    {
     "data": {
      "text/plain": [
       "(3263, 25)"
      ]
     },
     "execution_count": 26,
     "metadata": {},
     "output_type": "execute_result"
    }
   ],
   "source": [
    "text_test_pad.shape"
   ]
  },
  {
   "cell_type": "code",
   "execution_count": 27,
   "metadata": {},
   "outputs": [],
   "source": [
    "# Train Test Split\n",
    "xtrain, xval, ytrain, yval = train_test_split(text_train_pad,train_df.target, test_size=0.20)"
   ]
  },
  {
   "cell_type": "code",
   "execution_count": 28,
   "metadata": {},
   "outputs": [],
   "source": [
    "train = tf.data.Dataset.from_tensor_slices((xtrain, ytrain))\n",
    "val = tf.data.Dataset.from_tensor_slices((xval, yval))"
   ]
  },
  {
   "cell_type": "code",
   "execution_count": 29,
   "metadata": {},
   "outputs": [
    {
     "name": "stdout",
     "output_type": "stream",
     "text": [
      "x: tf.Tensor(\n",
      "[  1   1  52   1 968   1  21  44 818   0   0   0   0   0   0   0   0   0\n",
      "   0   0   0   0   0   0   0], shape=(25,), dtype=int32)\n",
      "y: tf.Tensor(1, shape=(), dtype=int64)\n",
      "x: tf.Tensor(\n",
      "[ 54 466 207   1   1  10 116 168 112 131 128 211  94   1   1   0   0   0\n",
      "   0   0   0   0   0   0   0], shape=(25,), dtype=int32)\n",
      "y: tf.Tensor(0, shape=(), dtype=int64)\n"
     ]
    }
   ],
   "source": [
    "for tweet, target in train.take(2):\n",
    "    print('x:',tweet)\n",
    "    print('y:',target)"
   ]
  },
  {
   "cell_type": "code",
   "execution_count": 30,
   "metadata": {},
   "outputs": [
    {
     "data": {
      "text/plain": [
       "6090"
      ]
     },
     "execution_count": 30,
     "metadata": {},
     "output_type": "execute_result"
    }
   ],
   "source": [
    "len(train)"
   ]
  },
  {
   "cell_type": "code",
   "execution_count": 31,
   "metadata": {},
   "outputs": [],
   "source": [
    "train_batch = train.shuffle(len(train)).batch(64)\n",
    "val_batch = val.shuffle(len(val)).batch(64)"
   ]
  },
  {
   "cell_type": "code",
   "execution_count": 32,
   "metadata": {},
   "outputs": [
    {
     "name": "stdout",
     "output_type": "stream",
     "text": [
      "tf.Tensor(\n",
      "[[ 671  546  406 ...    0    0    0]\n",
      " [   1    1   40 ...    0    0    0]\n",
      " [ 537  873  925 ...    0    0    0]\n",
      " ...\n",
      " [ 558   20  588 ...    0    0    0]\n",
      " [ 416   18    0 ...    0    0    0]\n",
      " [   1 1122    2 ...    0    0    0]], shape=(64, 25), dtype=int32) tf.Tensor(\n",
      "[0 1 0 0 0 1 1 1 0 1 0 1 0 1 1 1 1 1 0 0 1 1 0 0 0 1 0 0 1 1 1 0 1 1 0 0 1\n",
      " 0 1 0 0 0 0 1 1 0 0 0 1 0 0 0 1 0 1 1 1 1 1 1 0 1 0 1], shape=(64,), dtype=int64)\n"
     ]
    }
   ],
   "source": [
    "# Regardons un batch \n",
    "for tweet, target in train_batch.take(1):\n",
    "  print(tweet, target)"
   ]
  },
  {
   "cell_type": "markdown",
   "metadata": {},
   "source": [
    "### 3. Creating models"
   ]
  },
  {
   "cell_type": "markdown",
   "metadata": {},
   "source": [
    "#### **Base model**"
   ]
  },
  {
   "cell_type": "code",
   "execution_count": 33,
   "metadata": {},
   "outputs": [],
   "source": [
    "vocab_size = tokenizer.num_words\n",
    "model = tf.keras.Sequential([\n",
    "                # Couche d'Input Word Embedding           \n",
    "                tf.keras.layers.Embedding(input_dim = vocab_size+1, output_dim = 16, input_length = 25, name=\"embedding\"),\n",
    "                # Global average pooling\n",
    "                tf.keras.layers.GlobalAveragePooling1D(),\n",
    "                # Couche Dense classique\n",
    "                #tf.keras.layers.Dense(16, activation='relu'),\n",
    "                tf.keras.layers.Dense(8, activation='relu'),\n",
    "                # Couche de sortie avec une fonction d'activation sigmoid\n",
    "                tf.keras.layers.Dense(1, activation=\"sigmoid\")\n",
    "])"
   ]
  },
  {
   "cell_type": "code",
   "execution_count": 34,
   "metadata": {},
   "outputs": [
    {
     "name": "stdout",
     "output_type": "stream",
     "text": [
      "Model: \"sequential\"\n",
      "_________________________________________________________________\n",
      " Layer (type)                Output Shape              Param #   \n",
      "=================================================================\n",
      " embedding (Embedding)       (None, 25, 16)            32016     \n",
      "                                                                 \n",
      " global_average_pooling1d (G  (None, 16)               0         \n",
      " lobalAveragePooling1D)                                          \n",
      "                                                                 \n",
      " dense (Dense)               (None, 8)                 136       \n",
      "                                                                 \n",
      " dense_1 (Dense)             (None, 1)                 9         \n",
      "                                                                 \n",
      "=================================================================\n",
      "Total params: 32,161\n",
      "Trainable params: 32,161\n",
      "Non-trainable params: 0\n",
      "_________________________________________________________________\n"
     ]
    }
   ],
   "source": [
    "model.summary()"
   ]
  },
  {
   "cell_type": "code",
   "execution_count": 35,
   "metadata": {},
   "outputs": [],
   "source": [
    "optimizer= tf.keras.optimizers.Adam()\n",
    "\n",
    "model.compile(optimizer='adam',\n",
    "              loss='binary_crossentropy',\n",
    "              metrics=['accuracy'])"
   ]
  },
  {
   "cell_type": "code",
   "execution_count": 36,
   "metadata": {},
   "outputs": [
    {
     "name": "stdout",
     "output_type": "stream",
     "text": [
      "Epoch 1/20\n",
      "96/96 [==============================] - 1s 3ms/step - loss: 0.6801 - accuracy: 0.5675 - val_loss: 0.6647 - val_accuracy: 0.5817\n",
      "Epoch 2/20\n",
      "96/96 [==============================] - 0s 2ms/step - loss: 0.6552 - accuracy: 0.5887 - val_loss: 0.6316 - val_accuracy: 0.6467\n",
      "Epoch 3/20\n",
      "96/96 [==============================] - 0s 2ms/step - loss: 0.6099 - accuracy: 0.6791 - val_loss: 0.5798 - val_accuracy: 0.7584\n",
      "Epoch 4/20\n",
      "96/96 [==============================] - 0s 2ms/step - loss: 0.5463 - accuracy: 0.7677 - val_loss: 0.5207 - val_accuracy: 0.7938\n",
      "Epoch 5/20\n",
      "96/96 [==============================] - 0s 1ms/step - loss: 0.4836 - accuracy: 0.8118 - val_loss: 0.4776 - val_accuracy: 0.8135\n",
      "Epoch 6/20\n",
      "96/96 [==============================] - 0s 1ms/step - loss: 0.4359 - accuracy: 0.8319 - val_loss: 0.4491 - val_accuracy: 0.8155\n",
      "Epoch 7/20\n",
      "96/96 [==============================] - 0s 1ms/step - loss: 0.4032 - accuracy: 0.8406 - val_loss: 0.4373 - val_accuracy: 0.8135\n",
      "Epoch 8/20\n",
      "96/96 [==============================] - 0s 1ms/step - loss: 0.3808 - accuracy: 0.8475 - val_loss: 0.4344 - val_accuracy: 0.8135\n",
      "Epoch 9/20\n",
      "96/96 [==============================] - 0s 1ms/step - loss: 0.3645 - accuracy: 0.8539 - val_loss: 0.4334 - val_accuracy: 0.8122\n",
      "Epoch 10/20\n",
      "96/96 [==============================] - 0s 1ms/step - loss: 0.3506 - accuracy: 0.8583 - val_loss: 0.4368 - val_accuracy: 0.8096\n",
      "Epoch 11/20\n",
      "96/96 [==============================] - 0s 1ms/step - loss: 0.3396 - accuracy: 0.8604 - val_loss: 0.4385 - val_accuracy: 0.8089\n",
      "Epoch 12/20\n",
      "96/96 [==============================] - 0s 1ms/step - loss: 0.3300 - accuracy: 0.8672 - val_loss: 0.4470 - val_accuracy: 0.8089\n",
      "Epoch 13/20\n",
      "96/96 [==============================] - 0s 2ms/step - loss: 0.3220 - accuracy: 0.8673 - val_loss: 0.4485 - val_accuracy: 0.8096\n",
      "Epoch 14/20\n",
      "96/96 [==============================] - 0s 1ms/step - loss: 0.3151 - accuracy: 0.8700 - val_loss: 0.4542 - val_accuracy: 0.8096\n",
      "Epoch 15/20\n",
      "96/96 [==============================] - 0s 2ms/step - loss: 0.3082 - accuracy: 0.8706 - val_loss: 0.4595 - val_accuracy: 0.8122\n",
      "Epoch 16/20\n",
      "96/96 [==============================] - 0s 2ms/step - loss: 0.3020 - accuracy: 0.8750 - val_loss: 0.4667 - val_accuracy: 0.8083\n",
      "Epoch 17/20\n",
      "96/96 [==============================] - 0s 2ms/step - loss: 0.2964 - accuracy: 0.8765 - val_loss: 0.4799 - val_accuracy: 0.8089\n",
      "Epoch 18/20\n",
      "96/96 [==============================] - 0s 2ms/step - loss: 0.2942 - accuracy: 0.8772 - val_loss: 0.4799 - val_accuracy: 0.8056\n",
      "Epoch 19/20\n",
      "96/96 [==============================] - 0s 2ms/step - loss: 0.2877 - accuracy: 0.8803 - val_loss: 0.4859 - val_accuracy: 0.8096\n",
      "Epoch 20/20\n",
      "96/96 [==============================] - 0s 2ms/step - loss: 0.2831 - accuracy: 0.8847 - val_loss: 0.4940 - val_accuracy: 0.8076\n"
     ]
    }
   ],
   "source": [
    "history = model.fit(train_batch, \n",
    "                    epochs=20, \n",
    "                    validation_data=val_batch)"
   ]
  },
  {
   "cell_type": "code",
   "execution_count": 37,
   "metadata": {},
   "outputs": [],
   "source": [
    "model.save(\"logs/model/model_base.h5\")\n",
    "json.dump(model.history.history, open(\"./logs/history/base_history.json\", 'w'))"
   ]
  },
  {
   "cell_type": "markdown",
   "metadata": {},
   "source": [
    "#### **SimpleRNN**"
   ]
  },
  {
   "cell_type": "code",
   "execution_count": 38,
   "metadata": {},
   "outputs": [],
   "source": [
    "model = tf.keras.Sequential([\n",
    "                # Couche d'Input Word Embedding           \n",
    "                tf.keras.layers.Embedding(input_dim = vocab_size+1, output_dim = 16, input_length = 25, name=\"embedding\"),\n",
    "                # Global average pooling\n",
    "                # Gobal average pooling\n",
    "                SimpleRNN(units=16, return_sequences=True), # maintains the sequential nature\n",
    "                SimpleRNN(units=8, return_sequences=False), # returns the last output\n",
    "                # Dense layers once the data is flat\n",
    "                ######Dense(16, activation='relu'),\n",
    "                Dense(8, activation='relu'),\n",
    "                # Couche de sortie avec le nombre de neurones en sortie égale au nombre de classe avec fonction softmax\n",
    "                tf.keras.layers.Dense(1, activation=\"sigmoid\")\n",
    "])"
   ]
  },
  {
   "cell_type": "code",
   "execution_count": 39,
   "metadata": {},
   "outputs": [],
   "source": [
    "optimizer= tf.keras.optimizers.Adam()\n",
    "\n",
    "model.compile(optimizer='adam',\n",
    "              loss='binary_crossentropy',\n",
    "              metrics=['accuracy'])"
   ]
  },
  {
   "cell_type": "code",
   "execution_count": 40,
   "metadata": {},
   "outputs": [
    {
     "name": "stdout",
     "output_type": "stream",
     "text": [
      "Epoch 1/20\n",
      "96/96 [==============================] - 2s 9ms/step - loss: 0.6173 - accuracy: 0.6668 - val_loss: 0.5347 - val_accuracy: 0.7557\n",
      "Epoch 2/20\n",
      "96/96 [==============================] - 1s 7ms/step - loss: 0.4698 - accuracy: 0.8044 - val_loss: 0.5149 - val_accuracy: 0.7663\n",
      "Epoch 3/20\n",
      "96/96 [==============================] - 1s 8ms/step - loss: 0.3822 - accuracy: 0.8491 - val_loss: 0.5167 - val_accuracy: 0.7833\n",
      "Epoch 4/20\n",
      "96/96 [==============================] - 1s 7ms/step - loss: 0.3254 - accuracy: 0.8778 - val_loss: 0.5671 - val_accuracy: 0.7722\n",
      "Epoch 5/20\n",
      "96/96 [==============================] - 1s 7ms/step - loss: 0.2806 - accuracy: 0.8969 - val_loss: 0.5202 - val_accuracy: 0.7919\n",
      "Epoch 6/20\n",
      "96/96 [==============================] - 1s 7ms/step - loss: 0.2471 - accuracy: 0.9095 - val_loss: 0.5539 - val_accuracy: 0.7859\n",
      "Epoch 7/20\n",
      "96/96 [==============================] - 1s 7ms/step - loss: 0.2259 - accuracy: 0.9171 - val_loss: 0.6088 - val_accuracy: 0.7669\n",
      "Epoch 8/20\n",
      "96/96 [==============================] - 1s 7ms/step - loss: 0.1935 - accuracy: 0.9271 - val_loss: 0.6802 - val_accuracy: 0.7748\n",
      "Epoch 9/20\n",
      "96/96 [==============================] - 1s 8ms/step - loss: 0.1807 - accuracy: 0.9307 - val_loss: 0.6922 - val_accuracy: 0.7781\n",
      "Epoch 10/20\n",
      "96/96 [==============================] - 1s 7ms/step - loss: 0.1674 - accuracy: 0.9355 - val_loss: 0.7389 - val_accuracy: 0.7525\n",
      "Epoch 11/20\n",
      "96/96 [==============================] - 1s 9ms/step - loss: 0.1489 - accuracy: 0.9452 - val_loss: 0.7626 - val_accuracy: 0.7754\n",
      "Epoch 12/20\n",
      "96/96 [==============================] - 1s 7ms/step - loss: 0.1462 - accuracy: 0.9430 - val_loss: 0.7995 - val_accuracy: 0.7196\n",
      "Epoch 13/20\n",
      "96/96 [==============================] - 1s 7ms/step - loss: 0.1444 - accuracy: 0.9445 - val_loss: 0.8032 - val_accuracy: 0.7735\n",
      "Epoch 14/20\n",
      "96/96 [==============================] - 1s 7ms/step - loss: 0.1387 - accuracy: 0.9443 - val_loss: 0.8649 - val_accuracy: 0.7466\n",
      "Epoch 15/20\n",
      "96/96 [==============================] - 1s 7ms/step - loss: 0.1217 - accuracy: 0.9537 - val_loss: 0.8886 - val_accuracy: 0.7663\n",
      "Epoch 16/20\n",
      "96/96 [==============================] - 1s 7ms/step - loss: 0.1150 - accuracy: 0.9542 - val_loss: 0.9129 - val_accuracy: 0.7262\n",
      "Epoch 17/20\n",
      "96/96 [==============================] - 1s 7ms/step - loss: 0.1055 - accuracy: 0.9571 - val_loss: 0.9415 - val_accuracy: 0.7663\n",
      "Epoch 18/20\n",
      "96/96 [==============================] - 1s 7ms/step - loss: 0.1007 - accuracy: 0.9603 - val_loss: 0.9482 - val_accuracy: 0.7590\n",
      "Epoch 19/20\n",
      "96/96 [==============================] - 1s 7ms/step - loss: 0.0952 - accuracy: 0.9619 - val_loss: 0.9378 - val_accuracy: 0.7249\n",
      "Epoch 20/20\n",
      "96/96 [==============================] - 1s 7ms/step - loss: 0.0940 - accuracy: 0.9622 - val_loss: 0.9276 - val_accuracy: 0.7617\n"
     ]
    }
   ],
   "source": [
    "history = model.fit(train_batch, \n",
    "                    epochs=20, \n",
    "                    validation_data=val_batch)"
   ]
  },
  {
   "cell_type": "code",
   "execution_count": 41,
   "metadata": {},
   "outputs": [],
   "source": [
    "model.save(\"logs/model/model_simpleRNN.h5\")\n",
    "json.dump(model.history.history, open(\"./logs/history/simpleRNN_history.json\", 'w'))"
   ]
  },
  {
   "cell_type": "markdown",
   "metadata": {},
   "source": [
    "#### **GRU**"
   ]
  },
  {
   "cell_type": "code",
   "execution_count": 42,
   "metadata": {},
   "outputs": [
    {
     "name": "stdout",
     "output_type": "stream",
     "text": [
      "Epoch 1/20\n",
      "96/96 [==============================] - 5s 20ms/step - loss: 0.6915 - accuracy: 0.5553 - val_loss: 0.6888 - val_accuracy: 0.5817\n",
      "Epoch 2/20\n",
      "96/96 [==============================] - 1s 13ms/step - loss: 0.6885 - accuracy: 0.5675 - val_loss: 0.6857 - val_accuracy: 0.5817\n",
      "Epoch 3/20\n",
      "96/96 [==============================] - 2s 17ms/step - loss: 0.6865 - accuracy: 0.5675 - val_loss: 0.6836 - val_accuracy: 0.5817\n",
      "Epoch 4/20\n",
      "96/96 [==============================] - 2s 17ms/step - loss: 0.6853 - accuracy: 0.5675 - val_loss: 0.6823 - val_accuracy: 0.5817\n",
      "Epoch 5/20\n",
      "96/96 [==============================] - 1s 15ms/step - loss: 0.6847 - accuracy: 0.5675 - val_loss: 0.6814 - val_accuracy: 0.5817\n",
      "Epoch 6/20\n",
      "96/96 [==============================] - 1s 14ms/step - loss: 0.6843 - accuracy: 0.5675 - val_loss: 0.6810 - val_accuracy: 0.5817\n",
      "Epoch 7/20\n",
      "96/96 [==============================] - 1s 13ms/step - loss: 0.6842 - accuracy: 0.5675 - val_loss: 0.6807 - val_accuracy: 0.5817\n",
      "Epoch 8/20\n",
      "96/96 [==============================] - 1s 13ms/step - loss: 0.6841 - accuracy: 0.5675 - val_loss: 0.6804 - val_accuracy: 0.5817\n",
      "Epoch 9/20\n",
      "96/96 [==============================] - 1s 13ms/step - loss: 0.6841 - accuracy: 0.5675 - val_loss: 0.6803 - val_accuracy: 0.5817\n",
      "Epoch 10/20\n",
      "96/96 [==============================] - 1s 15ms/step - loss: 0.6840 - accuracy: 0.5675 - val_loss: 0.6803 - val_accuracy: 0.5817\n",
      "Epoch 11/20\n",
      "96/96 [==============================] - 1s 11ms/step - loss: 0.6840 - accuracy: 0.5675 - val_loss: 0.6803 - val_accuracy: 0.5817\n",
      "Epoch 12/20\n",
      "96/96 [==============================] - 1s 13ms/step - loss: 0.6840 - accuracy: 0.5675 - val_loss: 0.6802 - val_accuracy: 0.5817\n",
      "Epoch 13/20\n",
      "96/96 [==============================] - 1s 12ms/step - loss: 0.6840 - accuracy: 0.5675 - val_loss: 0.6802 - val_accuracy: 0.5817\n",
      "Epoch 14/20\n",
      "96/96 [==============================] - 1s 12ms/step - loss: 0.6840 - accuracy: 0.5675 - val_loss: 0.6802 - val_accuracy: 0.5817\n",
      "Epoch 15/20\n",
      "96/96 [==============================] - 1s 11ms/step - loss: 0.6840 - accuracy: 0.5675 - val_loss: 0.6802 - val_accuracy: 0.5817\n",
      "Epoch 16/20\n",
      "96/96 [==============================] - 1s 12ms/step - loss: 0.6840 - accuracy: 0.5675 - val_loss: 0.6801 - val_accuracy: 0.5817\n",
      "Epoch 17/20\n",
      "96/96 [==============================] - 1s 12ms/step - loss: 0.6840 - accuracy: 0.5675 - val_loss: 0.6801 - val_accuracy: 0.5817\n",
      "Epoch 18/20\n",
      "96/96 [==============================] - 1s 13ms/step - loss: 0.6840 - accuracy: 0.5675 - val_loss: 0.6802 - val_accuracy: 0.5817\n",
      "Epoch 19/20\n",
      "96/96 [==============================] - 1s 13ms/step - loss: 0.6840 - accuracy: 0.5675 - val_loss: 0.6802 - val_accuracy: 0.5817\n",
      "Epoch 20/20\n",
      "96/96 [==============================] - 1s 12ms/step - loss: 0.6841 - accuracy: 0.5675 - val_loss: 0.6803 - val_accuracy: 0.5817\n"
     ]
    }
   ],
   "source": [
    "model = tf.keras.Sequential([\n",
    "                # Couche d'Input Word Embedding           \n",
    "                tf.keras.layers.Embedding(input_dim = vocab_size+1, output_dim = 16, input_length = 25, name=\"embedding\"),\n",
    "                # Global average pooling\n",
    "                # Gobal average pooling\n",
    "                GRU(units=16, return_sequences=True), # maintains the sequential nature\n",
    "                GRU(units=8, return_sequences=False), # returns the last output\n",
    "                # Dense layers once the data is flat\n",
    "\n",
    "                #Dense(16, activation='relu'),\n",
    "                Dense(8, activation='relu'),\n",
    "                # Couche de sortie avec le nombre de neurones en sortie égale au nombre de classe avec fonction softmax\n",
    "                tf.keras.layers.Dense(1, activation=\"sigmoid\")\n",
    "])\n",
    "optimizer= tf.keras.optimizers.Adam()\n",
    "\n",
    "model.compile(optimizer='adam',\n",
    "              loss='binary_crossentropy',\n",
    "              metrics=['accuracy'])\n",
    "\n",
    "history = model.fit(train_batch, \n",
    "                    epochs=20,\n",
    "                    validation_data=val_batch)\n",
    "\n",
    "model.save(\"logs/model/model_GRU.h5\")\n",
    "json.dump(model.history.history, open(\"./logs/history/GRU_history.json\", 'w'))"
   ]
  },
  {
   "cell_type": "markdown",
   "metadata": {},
   "source": [
    "#### **LSTM**"
   ]
  },
  {
   "cell_type": "code",
   "execution_count": 43,
   "metadata": {},
   "outputs": [
    {
     "name": "stdout",
     "output_type": "stream",
     "text": [
      "Epoch 1/5\n",
      "96/96 [==============================] - 5s 20ms/step - loss: 0.6471 - accuracy: 0.6210 - val_loss: 0.5373 - val_accuracy: 0.7807\n",
      "Epoch 2/5\n",
      "96/96 [==============================] - 1s 15ms/step - loss: 0.4588 - accuracy: 0.8167 - val_loss: 0.4506 - val_accuracy: 0.8096\n",
      "Epoch 3/5\n",
      "96/96 [==============================] - 1s 15ms/step - loss: 0.3825 - accuracy: 0.8491 - val_loss: 0.4468 - val_accuracy: 0.8089\n",
      "Epoch 4/5\n",
      "96/96 [==============================] - 1s 15ms/step - loss: 0.3477 - accuracy: 0.8696 - val_loss: 0.4662 - val_accuracy: 0.7991\n",
      "Epoch 5/5\n",
      "96/96 [==============================] - 2s 16ms/step - loss: 0.3303 - accuracy: 0.8810 - val_loss: 0.5088 - val_accuracy: 0.7925\n"
     ]
    }
   ],
   "source": [
    "model = tf.keras.Sequential([\n",
    "                # Couche d'Input Word Embedding           \n",
    "                tf.keras.layers.Embedding(input_dim = vocab_size+1, output_dim = 16, input_length = 25, name=\"embedding\"),\n",
    "                # Global average pooling\n",
    "                # Gobal average pooling\n",
    "                #tf.keras.layers.Bidirectional(tf.keras.layers.LSTM(64, return_sequences=False)),\n",
    "                #tf.keras.layers.Bidirectional(tf.keras.layers.LSTM(32, return_sequences=False)),\n",
    "                LSTM(units=16, return_sequences=True, recurrent_dropout=0.5), # maintains the sequential nature\n",
    "                LSTM(units=8, return_sequences=False), # returns the last output\n",
    "                #tf.keras.layers.GlobalAveragePooling1D(),\n",
    "                #tf.keras.layers.BatchNormalization(),\n",
    "                #tf.keras.layers.Dropout(0.5),\n",
    "                # Dense layers once the data is flat\n",
    "                #tf.keras.layers.GlobalAveragePooling1D(),\n",
    "                #Dense(16, activation='relu'),\n",
    "                #tf.keras.layers.Dropout(rate=0.5),\n",
    "                #Dense(25, activation='relu'),\n",
    "                #tf.keras.layers.Dropout(rate=0.5),\n",
    "                #Dense(8, activation='relu'),\n",
    "                #tf.keras.layers.Dropout(rate=0.2),\n",
    "                # Couche de sortie avec le nombre de neurones en sortie égale au nombre de classe avec fonction softmax\n",
    "                tf.keras.layers.Dense(1, activation=\"sigmoid\")\n",
    "])\n",
    "optimizer= tf.keras.optimizers.Adam()\n",
    "\n",
    "model.compile(optimizer='adam',\n",
    "              loss='binary_crossentropy',\n",
    "              metrics=['accuracy'])\n",
    "              \n",
    "history = model.fit(train_batch, \n",
    "                    epochs=5, \n",
    "                    validation_data=val_batch)\n",
    "\n",
    "model.save(\"logs/model/model_LSTM.h5\")\n",
    "json.dump(model.history.history, open(\"./logs/history/LSTM_history.json\", 'w'))"
   ]
  },
  {
   "cell_type": "markdown",
   "metadata": {},
   "source": [
    "### 4. Model evaluation"
   ]
  },
  {
   "cell_type": "code",
   "execution_count": 44,
   "metadata": {},
   "outputs": [],
   "source": [
    "# display metrics\n",
    "def display_metrics(true, pred):\n",
    "    print(\"f1-score: \", metrics.f1_score(true, pred))\n",
    "    print(\"precision: \", metrics.precision_score(true, pred))\n",
    "    print(\"recall: \", metrics.recall_score(true, pred))\n",
    "    print(\"acuracy: \", metrics.accuracy_score(true, pred))\n",
    "    print(metrics.classification_report(true, pred))\n",
    "\n",
    "# display confusion matrix\n",
    "def plot_cm(y_true, y_pred, title, figsize=(5,4)):\n",
    "    cm = metrics.confusion_matrix(y_true, y_pred, labels=np.unique(y_true))\n",
    "    cm_sum = np.sum(cm, axis=1, keepdims=True)\n",
    "    cm_perc = cm / cm_sum.astype(float) * 100\n",
    "    annot = np.empty_like(cm).astype(str)\n",
    "    nrows, ncols = cm.shape\n",
    "    for i in range(nrows):\n",
    "        for j in range(ncols):\n",
    "            c = cm[i, j]\n",
    "            p = cm_perc[i, j]\n",
    "            if i == j:\n",
    "                s = cm_sum[i]\n",
    "                annot[i, j] = '%.1f%%\\n%d/%d' % (p, c, s)\n",
    "            elif c == 0:\n",
    "                annot[i, j] = ''\n",
    "            else:\n",
    "                annot[i, j] = '%.1f%%\\n%d' % (p, c)\n",
    "    cm = pd.DataFrame(cm, index=np.unique(y_true), columns=np.unique(y_true))\n",
    "    cm.index.name = 'Actual'\n",
    "    cm.columns.name = 'Predicted'\n",
    "    fig, ax = plt.subplots(figsize=figsize)\n",
    "    plt.title(title)\n",
    "    sns.heatmap(cm, cmap= \"YlGnBu\", annot=annot, fmt='', ax=ax)\n",
    "\n",
    "# display loss and accuracy history\n",
    "\n",
    "def plot_history(history):\n",
    "\n",
    "    # Visualization of the training process on the loss function \n",
    "    plt.plot(history[\"loss\"], color=\"b\", label='loss')\n",
    "    plt.plot(history[\"val_loss\"], color=\"r\", label='val loss')\n",
    "    plt.ylabel(\"loss\")\n",
    "    plt.xlabel(\"Epochs\")\n",
    "    plt.legend()\n",
    "    plt.show()\n",
    "\n",
    "    # Visualization of the training process on the loss function \n",
    "    plt.plot(history[\"accuracy\"], color=\"b\", label='accuracy')\n",
    "    plt.plot(history[\"val_accuracy\"], color=\"r\", label='val accuracy')\n",
    "    plt.ylabel(\"accuracy\")\n",
    "    plt.xlabel(\"Epochs\")\n",
    "    plt.legend()\n",
    "    plt.show()"
   ]
  },
  {
   "cell_type": "markdown",
   "metadata": {},
   "source": [
    "#### **Base model**"
   ]
  },
  {
   "cell_type": "code",
   "execution_count": 45,
   "metadata": {},
   "outputs": [
    {
     "name": "stdout",
     "output_type": "stream",
     "text": [
      "191/191 [==============================] - 0s 547us/step\n",
      "48/48 [==============================] - 0s 617us/step\n"
     ]
    }
   ],
   "source": [
    "# load model and history\n",
    "base_history = json.load(open(\"./logs/history/base_history.json\", 'r'))\n",
    "model_base = tf.keras.models.load_model(\"./logs/model/model_base.h5\")\n",
    "\n",
    "# prediction\n",
    "ytrain_pred_base = model_base.predict(xtrain).round()\n",
    "yval_pred_base = model_base.predict(xval).round()"
   ]
  },
  {
   "cell_type": "code",
   "execution_count": 46,
   "metadata": {},
   "outputs": [
    {
     "data": {
      "image/png": "[encoded data removed]",
      "text/plain": [
       "<Figure size 432x288 with 1 Axes>"
      ]
     },
     "metadata": {
      "needs_background": "light"
     },
     "output_type": "display_data"
    },
    {
     "data": {
      "image/png": "[encoded data removed]",
      "text/plain": [
       "<Figure size 432x288 with 1 Axes>"
      ]
     },
     "metadata": {
      "needs_background": "light"
     },
     "output_type": "display_data"
    }
   ],
   "source": [
    "plot_history(base_history)"
   ]
  },
  {
   "cell_type": "code",
   "execution_count": 47,
   "metadata": {},
   "outputs": [
    {
     "name": "stdout",
     "output_type": "stream",
     "text": [
      "-------------------------TRAIN-------------------------\n",
      "f1-score:  0.8669833729216152\n",
      "precision:  0.9057071960297767\n",
      "recall:  0.8314350797266514\n",
      "acuracy:  0.8896551724137931\n",
      "              precision    recall  f1-score   support\n",
      "\n",
      "           0       0.88      0.93      0.91      3456\n",
      "           1       0.91      0.83      0.87      2634\n",
      "\n",
      "    accuracy                           0.89      6090\n",
      "   macro avg       0.89      0.88      0.89      6090\n",
      "weighted avg       0.89      0.89      0.89      6090\n",
      "\n",
      "-------------------------VALIDATION-------------------------\n",
      "f1-score:  0.7615947925142392\n",
      "precision:  0.7905405405405406\n",
      "recall:  0.7346938775510204\n",
      "acuracy:  0.8076165462902167\n",
      "              precision    recall  f1-score   support\n",
      "\n",
      "           0       0.82      0.86      0.84       886\n",
      "           1       0.79      0.73      0.76       637\n",
      "\n",
      "    accuracy                           0.81      1523\n",
      "   macro avg       0.80      0.80      0.80      1523\n",
      "weighted avg       0.81      0.81      0.81      1523\n",
      "\n"
     ]
    }
   ],
   "source": [
    "print(\"-\"*25 + 'TRAIN' + \"-\"*25)\n",
    "display_metrics(ytrain, ytrain_pred_base)\n",
    "print(\"-\"*25 + 'VALIDATION' + \"-\"*25)\n",
    "display_metrics(yval, yval_pred_base)"
   ]
  },
  {
   "cell_type": "code",
   "execution_count": 48,
   "metadata": {},
   "outputs": [
    {
     "data": {
      "image/png": "[encoded data removed]",
      "text/plain": [
       "<Figure size 360x288 with 2 Axes>"
      ]
     },
     "metadata": {
      "needs_background": "light"
     },
     "output_type": "display_data"
    },
    {
     "data": {
      "image/png": "[encoded data removed]",
      "text/plain": [
       "<Figure size 360x288 with 2 Axes>"
      ]
     },
     "metadata": {
      "needs_background": "light"
     },
     "output_type": "display_data"
    }
   ],
   "source": [
    "plot_cm(ytrain, ytrain_pred_base, 'train confusion matrix')\n",
    "plot_cm(yval, yval_pred_base, 'val confusion matrix')"
   ]
  },
  {
   "cell_type": "markdown",
   "metadata": {},
   "source": [
    "#### **SimpleRNN**"
   ]
  },
  {
   "cell_type": "code",
   "execution_count": 49,
   "metadata": {},
   "outputs": [
    {
     "name": "stdout",
     "output_type": "stream",
     "text": [
      "191/191 [==============================] - 0s 2ms/step\n",
      "48/48 [==============================] - 0s 2ms/step\n"
     ]
    }
   ],
   "source": [
    "# load model and history\n",
    "simpleRNN_history = json.load(open(\"./logs/history/simpleRNN_history.json\", 'r'))\n",
    "model_simpleRNN = tf.keras.models.load_model(\"./logs/model/model_simpleRNN.h5\")\n",
    "\n",
    "# prediction\n",
    "ytrain_pred_simpleRNN = model_simpleRNN.predict(xtrain).round()\n",
    "yval_pred_simpleRNN = model_simpleRNN.predict(xval).round()"
   ]
  },
  {
   "cell_type": "code",
   "execution_count": 50,
   "metadata": {},
   "outputs": [
    {
     "data": {
      "image/png": "[encoded data removed]",
      "text/plain": [
       "<Figure size 432x288 with 1 Axes>"
      ]
     },
     "metadata": {
      "needs_background": "light"
     },
     "output_type": "display_data"
    },
    {
     "data": {
      "image/png": "[encoded data removed]",
      "text/plain": [
       "<Figure size 432x288 with 1 Axes>"
      ]
     },
     "metadata": {
      "needs_background": "light"
     },
     "output_type": "display_data"
    }
   ],
   "source": [
    "plot_history(simpleRNN_history)"
   ]
  },
  {
   "cell_type": "code",
   "execution_count": 51,
   "metadata": {},
   "outputs": [
    {
     "data": {
      "image/png": "[encoded data removed]",
      "text/plain": [
       "<Figure size 360x288 with 2 Axes>"
      ]
     },
     "metadata": {
      "needs_background": "light"
     },
     "output_type": "display_data"
    },
    {
     "data": {
      "image/png": "[encoded data removed]",
      "text/plain": [
       "<Figure size 360x288 with 2 Axes>"
      ]
     },
     "metadata": {
      "needs_background": "light"
     },
     "output_type": "display_data"
    }
   ],
   "source": [
    "plot_cm(ytrain, ytrain_pred_simpleRNN, 'train confusion matrix')\n",
    "plot_cm(yval, yval_pred_simpleRNN, 'val confusion matrix')"
   ]
  },
  {
   "cell_type": "markdown",
   "metadata": {},
   "source": [
    "#### **GRU**"
   ]
  },
  {
   "cell_type": "code",
   "execution_count": 52,
   "metadata": {},
   "outputs": [
    {
     "name": "stdout",
     "output_type": "stream",
     "text": [
      "191/191 [==============================] - 1s 2ms/step\n",
      "48/48 [==============================] - 0s 2ms/step\n"
     ]
    }
   ],
   "source": [
    "# load model and history\n",
    "GRU_history = json.load(open(\"./logs/history/GRU_history.json\", 'r'))\n",
    "model_GRU = tf.keras.models.load_model(\"./logs/model/model_GRU.h5\")\n",
    "\n",
    "# prediction\n",
    "ytrain_pred_GRU = model_GRU.predict(xtrain).round()\n",
    "yval_pred_GRU = model_GRU.predict(xval).round()"
   ]
  },
  {
   "cell_type": "code",
   "execution_count": 53,
   "metadata": {},
   "outputs": [
    {
     "data": {
      "image/png": "[encoded data removed]",
      "text/plain": [
       "<Figure size 432x288 with 1 Axes>"
      ]
     },
     "metadata": {
      "needs_background": "light"
     },
     "output_type": "display_data"
    },
    {
     "data": {
      "image/png": "[encoded data removed]",
      "text/plain": [
       "<Figure size 432x288 with 1 Axes>"
      ]
     },
     "metadata": {
      "needs_background": "light"
     },
     "output_type": "display_data"
    }
   ],
   "source": [
    "plot_history(GRU_history)"
   ]
  },
  {
   "cell_type": "code",
   "execution_count": 54,
   "metadata": {},
   "outputs": [
    {
     "data": {
      "image/png": "[encoded data removed]",
      "text/plain": [
       "<Figure size 360x288 with 2 Axes>"
      ]
     },
     "metadata": {
      "needs_background": "light"
     },
     "output_type": "display_data"
    },
    {
     "data": {
      "image/png": "[encoded data removed]",
      "text/plain": [
       "<Figure size 360x288 with 2 Axes>"
      ]
     },
     "metadata": {
      "needs_background": "light"
     },
     "output_type": "display_data"
    }
   ],
   "source": [
    "plot_cm(ytrain, ytrain_pred_GRU, 'train confusion matrix')\n",
    "plot_cm(yval, yval_pred_GRU, 'val confusion matrix')"
   ]
  },
  {
   "cell_type": "markdown",
   "metadata": {},
   "source": [
    "#### **LSTM**"
   ]
  },
  {
   "cell_type": "code",
   "execution_count": 55,
   "metadata": {},
   "outputs": [
    {
     "name": "stdout",
     "output_type": "stream",
     "text": [
      "191/191 [==============================] - 1s 3ms/step\n",
      "48/48 [==============================] - 0s 3ms/step\n"
     ]
    }
   ],
   "source": [
    "# load model and history\n",
    "LSTM_history = json.load(open(\"./logs/history/LSTM_history.json\", 'r'))\n",
    "model_LSTM = tf.keras.models.load_model(\"./logs/model/model_LSTM.h5\")\n",
    "\n",
    "# prediction\n",
    "ytrain_pred_LSTM = model_LSTM.predict(xtrain).round()\n",
    "yval_pred_LSTM = model_LSTM.predict(xval).round()"
   ]
  },
  {
   "cell_type": "code",
   "execution_count": 56,
   "metadata": {},
   "outputs": [
    {
     "data": {
      "image/png": "[encoded data removed]",
      "text/plain": [
       "<Figure size 432x288 with 1 Axes>"
      ]
     },
     "metadata": {
      "needs_background": "light"
     },
     "output_type": "display_data"
    },
    {
     "data": {
      "image/png": "[encoded data removed]",
      "text/plain": [
       "<Figure size 432x288 with 1 Axes>"
      ]
     },
     "metadata": {
      "needs_background": "light"
     },
     "output_type": "display_data"
    }
   ],
   "source": [
    "plot_history(LSTM_history)"
   ]
  },
  {
   "cell_type": "code",
   "execution_count": 57,
   "metadata": {},
   "outputs": [
    {
     "data": {
      "image/png": "[encoded data removed]",
      "text/plain": [
       "<Figure size 360x288 with 2 Axes>"
      ]
     },
     "metadata": {
      "needs_background": "light"
     },
     "output_type": "display_data"
    },
    {
     "data": {
      "image/png": "[encoded data removed]",
      "text/plain": [
       "<Figure size 360x288 with 2 Axes>"
      ]
     },
     "metadata": {
      "needs_background": "light"
     },
     "output_type": "display_data"
    }
   ],
   "source": [
    "plot_cm(ytrain, ytrain_pred_LSTM, 'train confusion matrix')\n",
    "plot_cm(yval, yval_pred_LSTM, 'val confusion matrix')"
   ]
  },
  {
   "cell_type": "markdown",
   "metadata": {},
   "source": [
    "we are overfitting.\n",
    "solutions: simplifying the model, adding drop-out layers, stop the learning process early.\n",
    "These solutions didn't improve significantly our accuracy score"
   ]
  },
  {
   "cell_type": "markdown",
   "metadata": {},
   "source": [
    "the more complex the model (LSTM > GRU > simpleRNN > base), the faster it converges toward an accuracy of ~ 80 % but there is always overfitting above this value. the base model is the best performing and the loss and val_loss decrease each other almost all along the learning process. Our RNN models don't learn anything from the sequentiality of the words inside a tweet."
   ]
  },
  {
   "cell_type": "markdown",
   "metadata": {},
   "source": [
    "### 5. Submission"
   ]
  },
  {
   "cell_type": "code",
   "execution_count": 58,
   "metadata": {},
   "outputs": [
    {
     "name": "stdout",
     "output_type": "stream",
     "text": [
      "Epoch 1/8\n",
      "96/96 [==============================] - 1s 2ms/step - loss: 0.6906 - accuracy: 0.5588 - val_loss: 0.6826 - val_accuracy: 0.5817\n",
      "Epoch 2/8\n",
      "96/96 [==============================] - 0s 1ms/step - loss: 0.6705 - accuracy: 0.5831 - val_loss: 0.6466 - val_accuracy: 0.6264\n",
      "Epoch 3/8\n",
      "96/96 [==============================] - 0s 1ms/step - loss: 0.6189 - accuracy: 0.6875 - val_loss: 0.5851 - val_accuracy: 0.7971\n",
      "Epoch 4/8\n",
      "96/96 [==============================] - 0s 1ms/step - loss: 0.5420 - accuracy: 0.7918 - val_loss: 0.5079 - val_accuracy: 0.7951\n",
      "Epoch 5/8\n",
      "96/96 [==============================] - 0s 1ms/step - loss: 0.4700 - accuracy: 0.8200 - val_loss: 0.4609 - val_accuracy: 0.8142\n",
      "Epoch 6/8\n",
      "96/96 [==============================] - 0s 1ms/step - loss: 0.4194 - accuracy: 0.8345 - val_loss: 0.4342 - val_accuracy: 0.8135\n",
      "Epoch 7/8\n",
      "96/96 [==============================] - 0s 1ms/step - loss: 0.3879 - accuracy: 0.8463 - val_loss: 0.4295 - val_accuracy: 0.8129\n",
      "Epoch 8/8\n",
      "96/96 [==============================] - 0s 1ms/step - loss: 0.3677 - accuracy: 0.8499 - val_loss: 0.4274 - val_accuracy: 0.8096\n"
     ]
    }
   ],
   "source": [
    "vocab_size = tokenizer.num_words\n",
    "model = tf.keras.Sequential([\n",
    "                # Couche d'Input Word Embedding           \n",
    "                tf.keras.layers.Embedding(input_dim = vocab_size+1, output_dim = 16, input_length = 25, name=\"embedding\"),\n",
    "                # Global average pooling\n",
    "                tf.keras.layers.GlobalAveragePooling1D(),\n",
    "                # Couche Dense classique\n",
    "                #tf.keras.layers.Dense(16, activation='relu'),\n",
    "                tf.keras.layers.Dense(8, activation='relu'),\n",
    "                # Couche de sortie avec une fonction d'activation sigmoid\n",
    "                tf.keras.layers.Dense(1, activation=\"sigmoid\")\n",
    "])\n",
    "\n",
    "optimizer= tf.keras.optimizers.Adam()\n",
    "model.compile(optimizer='adam',\n",
    "              loss='binary_crossentropy',\n",
    "              metrics=['accuracy'])\n",
    "\n",
    "history = model.fit(train_batch, \n",
    "                    epochs=8, \n",
    "                    validation_data=val_batch)\n",
    "\n",
    "model.save(\"logs/model/model_final.h5\")\n",
    "json.dump(model.history.history, open(\"./logs/history/final_history.json\", 'w'))"
   ]
  },
  {
   "cell_type": "code",
   "execution_count": 59,
   "metadata": {},
   "outputs": [],
   "source": [
    "model_final = tf.keras.models.load_model(\"./logs/model/model_final.h5\")"
   ]
  },
  {
   "cell_type": "code",
   "execution_count": 60,
   "metadata": {},
   "outputs": [
    {
     "name": "stdout",
     "output_type": "stream",
     "text": [
      "102/102 [==============================] - 0s 564us/step\n"
     ]
    }
   ],
   "source": [
    "ytest_pred = model_final.predict(text_test_pad).round().astype(int).reshape(3263)"
   ]
  },
  {
   "cell_type": "code",
   "execution_count": 61,
   "metadata": {},
   "outputs": [],
   "source": [
    "sub=pd.DataFrame({'id':test_df['id'].values.tolist(),'target':ytest_pred})\n",
    "sub.to_csv('submission.csv',index=False)"
   ]
  },
  {
   "cell_type": "markdown",
   "metadata": {},
   "source": [
    "Test accuracy score: 0.79589"
   ]
  },
  {
   "cell_type": "markdown",
   "metadata": {},
   "source": [
    "## 6. Vizualising the embbeding"
   ]
  },
  {
   "cell_type": "code",
   "execution_count": 62,
   "metadata": {},
   "outputs": [],
   "source": [
    "weights = model_LSTM.get_layer('embedding').get_weights()[0]\n",
    "vocab = [value for value in tokenizer.index_word.values()][0:2000]"
   ]
  },
  {
   "cell_type": "code",
   "execution_count": 63,
   "metadata": {},
   "outputs": [],
   "source": [
    "# Set up a logs directory, so Tensorboard knows where to look for files.\n",
    "log_dir='./logs/projector/'\n",
    "if not os.path.exists(log_dir):\n",
    "    os.makedirs(log_dir)\n",
    "\n",
    "out_v = io.open('vectors.tsv', 'w', encoding='utf-8')\n",
    "out_m = io.open('metadata.tsv', 'w', encoding='utf-8')\n",
    "\n",
    "for index, word in enumerate(vocab):\n",
    "  if index == 0:\n",
    "    continue  # skip 0, it's padding.\n",
    "  vec = weights[index]\n",
    "  out_v.write('\\t'.join([str(x) for x in vec]) + \"\\n\")\n",
    "  out_m.write(word + \"\\n\")\n",
    "out_v.close()\n",
    "out_m.close()"
   ]
  },
  {
   "cell_type": "code",
   "execution_count": 64,
   "metadata": {},
   "outputs": [],
   "source": [
    "from tensorboard.plugins import projector\n",
    "\n",
    "# Save the weights we want to analyze as a variable. Note that the first\n",
    "# value represents any unknown word, which is not in the metadata, here\n",
    "# we will remove this value.\n",
    "weights = tf.Variable(weights)\n",
    "# Create a checkpoint from embedding, the filename and key are the\n",
    "# name of the tensor.\n",
    "checkpoint = tf.train.Checkpoint(embedding=weights)\n",
    "checkpoint.save(os.path.join(log_dir, \"embedding.ckpt\"))\n",
    "\n",
    "# Set up config.\n",
    "config = projector.ProjectorConfig()\n",
    "embedding = config.embeddings.add()\n",
    "# The name of the tensor will be suffixed by `/.ATTRIBUTES/VARIABLE_VALUE`.\n",
    "embedding.tensor_name = \"embedding/.ATTRIBUTES/VARIABLE_VALUE\"\n",
    "embedding.metadata_path = 'metadata.tsv'\n",
    "projector.visualize_embeddings(log_dir, config)"
   ]
  },
  {
   "cell_type": "code",
   "execution_count": 65,
   "metadata": {},
   "outputs": [],
   "source": [
    "# Load the TensorBoard notebook extension\n",
    "%load_ext tensorboard"
   ]
  }
 ],
 "metadata": {
  "kernelspec": {
   "display_name": "Python 3.10.0 64-bit",
   "language": "python",
   "name": "python3"
  },
  "language_info": {
   "codemirror_mode": {
    "name": "ipython",
    "version": 3
   },
   "file_extension": ".py",
   "mimetype": "text/x-python",
   "name": "python",
   "nbconvert_exporter": "python",
   "pygments_lexer": "ipython3",
   "version": "3.10.0 (tags/v3.10.0:b494f59, Oct  4 2021, 19:00:18) [MSC v.1929 64 bit (AMD64)]"
  },
  "orig_nbformat": 4,
  "vscode": {
   "interpreter": {
    "hash": "6b23b447ae8d7dd20d4fc812b5289c3091e759321a9b689f6e1bbc2b9587a95b"
   }
  }
 },
 "nbformat": 4,
 "nbformat_minor": 2
}
